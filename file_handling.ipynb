{
 "cells": [
  {
   "cell_type": "code",
   "execution_count": 1,
   "metadata": {},
   "outputs": [],
   "source": [
    "import pandas as pd\n",
    "import numpy as np"
   ]
  },
  {
   "cell_type": "markdown",
   "metadata": {},
   "source": [
    "<h1>File Handling"
   ]
  },
  {
   "cell_type": "markdown",
   "metadata": {},
   "source": [
    "Open(file_path, mode)\n",
    "\n",
    "mode can be :- \n",
    "read - r (to read data from the existing file)\n",
    "write - w (to write data in the file and if file does not exist then it will create file but if file exist already then it will clean data from the existing file and then write data)\n",
    "append - a (it write data into the file in the end)"
   ]
  },
  {
   "cell_type": "code",
   "execution_count": 2,
   "metadata": {},
   "outputs": [],
   "source": [
    "message = \"\"\"\n",
    "Hi we are from upflairs, and thank you for joining our data science and machine program.\n",
    "\"\"\"\n",
    "file = open('demo.txt','w')\n",
    "file.write(message)\n",
    "file.close()"
   ]
  },
  {
   "cell_type": "code",
   "execution_count": 3,
   "metadata": {},
   "outputs": [
    {
     "name": "stdout",
     "output_type": "stream",
     "text": [
      "\n",
      "Hi we are from upflairs, and thank you for joining our data science and machine program.\n",
      "\n"
     ]
    }
   ],
   "source": [
    "file = open('demo.txt','r')\n",
    "data = file.read()\n",
    "print(data)\n",
    "file.close()"
   ]
  },
  {
   "cell_type": "code",
   "execution_count": 4,
   "metadata": {},
   "outputs": [],
   "source": [
    "file = open('demo.txt','a')\n",
    "file.write(\"\\nI am abhishek kuntal\")\n",
    "file.close()"
   ]
  },
  {
   "cell_type": "code",
   "execution_count": 5,
   "metadata": {},
   "outputs": [
    {
     "name": "stdout",
     "output_type": "stream",
     "text": [
      "\n",
      "Hi we are from upflairs, and thank you for joining our data science and machine program.\n",
      "\n",
      "I am abhishek kuntal\n"
     ]
    }
   ],
   "source": [
    "file = open('demo.txt','r')\n",
    "data = file.read()\n",
    "print(data)\n",
    "file.close()"
   ]
  },
  {
   "cell_type": "markdown",
   "metadata": {},
   "source": [
    "If we do not want to write close function or we forget to write it then we can't be able to delete that file in computer.\n",
    "So, we will write above code using with then we do not need to write close function anymore."
   ]
  },
  {
   "cell_type": "code",
   "execution_count": 6,
   "metadata": {},
   "outputs": [
    {
     "name": "stdout",
     "output_type": "stream",
     "text": [
      "\n",
      "Hi we are from upflairs, and thank you for joining our data science and machine program.\n",
      "\n",
      "I am abhishek kuntal\n"
     ]
    }
   ],
   "source": [
    "with open('demo.txt','r') as file:\n",
    "    data = file.read()\n",
    "    print(data)"
   ]
  }
 ],
 "metadata": {
  "kernelspec": {
   "display_name": "Python 3",
   "language": "python",
   "name": "python3"
  },
  "language_info": {
   "codemirror_mode": {
    "name": "ipython",
    "version": 3
   },
   "file_extension": ".py",
   "mimetype": "text/x-python",
   "name": "python",
   "nbconvert_exporter": "python",
   "pygments_lexer": "ipython3",
   "version": "3.12.4"
  }
 },
 "nbformat": 4,
 "nbformat_minor": 2
}
